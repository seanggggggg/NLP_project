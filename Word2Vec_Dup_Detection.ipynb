{
 "cells": [
  {
   "cell_type": "code",
   "execution_count": 2,
   "metadata": {
    "scrolled": false
   },
   "outputs": [],
   "source": [
    "import numpy as np\n",
    "import pandas as pd\n",
    "import nltk\n",
    "from nltk.tokenize import sent_tokenize, word_tokenize\n",
    "import time\n",
    "from time import time\n",
    "import re\n",
    "from sklearn.model_selection import train_test_split"
   ]
  },
  {
   "cell_type": "markdown",
   "metadata": {},
   "source": [
    "This below blocks are for obtaining the question1, question2 out of the data files. When in development, we use train_test_split on train.csv, and train the CNN based on train part, and verify based on dev part. This is doing a proof of concept that the CNN can work in detecting dup questions.  \n",
    "\n",
    "However when trying to apply the trained CNN to the test data set, we use the entire train.csv to retrain the CNN, and then apply to the test data set. In this case, we do not use a train_test_split. "
   ]
  },
  {
   "cell_type": "code",
   "execution_count": 3,
   "metadata": {
    "scrolled": true
   },
   "outputs": [],
   "source": [
    "def form_training_data(filename, test_size=0.0):\n",
    "    df = pd.read_csv(filename).fillna(\"\")\n",
    "    if test_size==0.0:\n",
    "        return df, None\n",
    "    else:\n",
    "        #only when developing I use this, if not I directly use the whole training set\n",
    "        df_train, df_dev= train_test_split(df, test_size=test_size)\n",
    "        return df_train, df_dev  "
   ]
  },
  {
   "cell_type": "code",
   "execution_count": 4,
   "metadata": {},
   "outputs": [],
   "source": [
    "df_train, df_dev= form_training_data(\"train.csv\")\n",
    "#df_train, df_dev= form_training_data(\"train.csv\", test_size=0.3)"
   ]
  },
  {
   "cell_type": "code",
   "execution_count": 5,
   "metadata": {},
   "outputs": [],
   "source": [
    "def prepare_data(df):\n",
    "    df_q1 = df[\"question1\"]\n",
    "    df_q2 = df[\"question2\"]\n",
    "\n",
    "    df_concat = pd.concat((df_q1, df_q2), axis=0).fillna(\"\")\n",
    "    df_concat.columns = [\"question\"]\n",
    "\n",
    "    sentences = [word_tokenize(sent) for sent in df_concat]\n",
    "    num_pairs = df.shape[0]\n",
    "    q1_sents = sentences[0:num_pairs]\n",
    "    q2_sents = sentences[num_pairs:]\n",
    "    return q1_sents, q2_sents, sentences"
   ]
  },
  {
   "cell_type": "code",
   "execution_count": 6,
   "metadata": {
    "scrolled": false
   },
   "outputs": [],
   "source": [
    "q1_sents_train, q2_sents_train, sents_train = prepare_data(df_train)\n",
    "lbls_train = df_train[\"is_duplicate\"]"
   ]
  },
  {
   "cell_type": "markdown",
   "metadata": {},
   "source": [
    "The below block is training a word2vec embedding based on train.csv, which will be used in the embedding layer of the CNN. "
   ]
  },
  {
   "cell_type": "code",
   "execution_count": null,
   "metadata": {},
   "outputs": [],
   "source": [
    "#train word2vec\n",
    "import gensim \n",
    "from gensim.models import Word2Vec\n",
    "w2v_model = Word2Vec(min_count = 5, size = 100, window = 4, sg = 1, negative = 20)\n",
    "t = time()\n",
    "\n",
    "w2v_model.build_vocab(sents_train)\n",
    "\n",
    "print('Time to build vocab: {} mins'.format(round((time() - t) / 60, 2)))\n",
    "\n",
    "t = time()\n",
    "\n",
    "w2v_model.train(sents_train, total_examples=w2v_model.corpus_count, epochs=30, report_delay=1)\n",
    "\n",
    "print('Time to train the model: {} mins'.format(round((time() - t) / 60, 2)))"
   ]
  },
  {
   "cell_type": "code",
   "execution_count": null,
   "metadata": {},
   "outputs": [],
   "source": [
    "#save word2vec\n",
    "w2v_model.wv.save_word2vec_format(\"w2v_text\",binary=False)"
   ]
  },
  {
   "cell_type": "code",
   "execution_count": null,
   "metadata": {},
   "outputs": [],
   "source": [
    "#load word2vec\n",
    "from gensim.models import KeyedVectors\n",
    "word_vectors = KeyedVectors.load(\"w2v_test\", mmap='r')\n",
    "wv_from_text = KeyedVectors.load_word2vec_format(\"w2v_text\", binary=False)"
   ]
  },
  {
   "cell_type": "code",
   "execution_count": null,
   "metadata": {},
   "outputs": [],
   "source": [
    "#testing the trained word2vec\n",
    "result = word_vectors.most_similar(positive=['woman', 'king'], negative=['man'])\n",
    "print(\"{}: {:.4f}\".format(*result[0]))\n",
    "result = word_vectors.most_similar_cosmul(positive=['woman', 'king'], negative=['man'])\n",
    "print(\"{}: {:.4f}\".format(*result[0]))\n",
    "print(word_vectors.doesnt_match(\"breakfast cereal dinner lunch\".split()))\n",
    "similarity = word_vectors.similarity('woman', 'man')\n",
    "print(similarity)\n",
    "result = word_vectors.similar_by_word(\"cat\")\n",
    "print(\"{}: {:.4f}\".format(*result[0]))\n",
    "distance = word_vectors.wv.distance(\"media\", \"media\")\n",
    "print(\"{:.1f}\".format(distance))\n",
    "sim = word_vectors.n_similarity(['sushi', 'shop'], ['japanese', 'restaurant'])\n",
    "print(\"{:.4f}\".format(sim))\n",
    "vector = word_vectors['computer']  # numpy vector of a word\n",
    "print(vector.shape)\n",
    "vector = word_vectors.wv.word_vec('office', use_norm=True)\n",
    "print(vector.shape)"
   ]
  },
  {
   "cell_type": "markdown",
   "metadata": {},
   "source": [
    "The below blocks are trying to do all sorts of preparation in order to feed the data into the CNN"
   ]
  },
  {
   "cell_type": "code",
   "execution_count": 7,
   "metadata": {},
   "outputs": [],
   "source": [
    "MIN_COUNT = 20\n",
    "def create_encoder(text, min_count=20):\n",
    "    \"\"\"\n",
    "    - Create a encoder which is a dictionary like {word: index}\n",
    "    - To reduce the total number of vocabularies, you can remove \n",
    "    the words that appear for less than min_count times in the entire\n",
    "    corpus\n",
    "    - Enfore {'_unknown_': 0}\n",
    "    \n",
    "    input:\n",
    "        text: list of token list, e.g. [['i', 'am', 'fine'], ['another', 'summary'], ...]\n",
    "    returns:\n",
    "        tokenmap:  encoder dictionary\n",
    "        tokenmap_reverse: reversed tokenmap {index: word} to faciliate inverse lookup\n",
    "    \"\"\"\n",
    "    tokenmap = {'_unknown_': 0}\n",
    "    tokenmap_reverse = {0: '_unknown_'}\n",
    "    \n",
    "    w_count = {}\n",
    "    unique_idx = 1\n",
    "    for s in text:\n",
    "        for w in s:\n",
    "            w_count[w] = w_count.get(w, 0) + 1\n",
    "            if w not in tokenmap and w_count[w] >= min_count:\n",
    "                tokenmap[w] = unique_idx\n",
    "                tokenmap_reverse[unique_idx] = w\n",
    "                unique_idx += 1\n",
    "\n",
    "    return tokenmap, tokenmap_reverse"
   ]
  },
  {
   "cell_type": "code",
   "execution_count": 8,
   "metadata": {},
   "outputs": [
    {
     "name": "stdout",
     "output_type": "stream",
     "text": [
      "the reduced vocabulary size is: 37122\n"
     ]
    }
   ],
   "source": [
    "tokenmap, tokenmap_reverse = create_encoder(sents_train, min_count=5)\n",
    "VOCAB_SIZE = len(tokenmap)\n",
    "MAX_LENGTH = 200\n",
    "print(\"the reduced vocabulary size is:\", VOCAB_SIZE)"
   ]
  },
  {
   "cell_type": "code",
   "execution_count": 9,
   "metadata": {},
   "outputs": [],
   "source": [
    "def trim_X(X, max_length=100, default=tokenmap['?']):\n",
    "    for i in range(len(X)):\n",
    "        if len(X[i]) > max_length:\n",
    "            X[i] = X[i][:max_length]\n",
    "        elif len(X[i]) < max_length:\n",
    "            X[i] = X[i] + [default] * (max_length - len(X[i]))\n",
    "            \n",
    "    return np.array(X)"
   ]
  },
  {
   "cell_type": "code",
   "execution_count": 10,
   "metadata": {},
   "outputs": [],
   "source": [
    "def encode_data(q1_sents, q2_sents, unknown=tokenmap['_unknown_'], default=tokenmap['?'], max_length=100):\n",
    "    q1_num_encoded = [[tokenmap.get(w1, unknown) for w1 in sent1] for sent1 in q1_sents]\n",
    "    q2_num_encoded = [[tokenmap.get(w2, unknown) for w2 in sent2] for sent2 in q2_sents]\n",
    "    q1_num_encoded = trim_X(q1_num_encoded, max_length=max_length,default=default)\n",
    "    q2_num_encoded = trim_X(q2_num_encoded, max_length=max_length,default=default)\n",
    "    return q1_num_encoded, q2_num_encoded"
   ]
  },
  {
   "cell_type": "code",
   "execution_count": 11,
   "metadata": {},
   "outputs": [],
   "source": [
    "q1_num_encoded, q2_num_encoded = encode_data(q1_sents_train, q2_sents_train, max_length=MAX_LENGTH)"
   ]
  },
  {
   "cell_type": "code",
   "execution_count": 12,
   "metadata": {},
   "outputs": [],
   "source": [
    "def training_data_generator(q1_num_encoded, q2_num_encoded, lbls, batch_docs=50, strangle=False):\n",
    "    if q1_num_encoded.shape != q2_num_encoded.shape:\n",
    "        print(\"dimensions do not match\")\n",
    "    batch_count = 0\n",
    "    num_pairs = q1_num_encoded.shape[0]\n",
    "    for i in range(num_pairs):\n",
    "        batch_count += 1\n",
    "        if batch_count == batch_docs:\n",
    "            q1_encoded = q1_num_encoded[i+1-batch_docs:i+1]\n",
    "            q2_encoded = q2_num_encoded[i+1-batch_docs:i+1]\n",
    "            labels = np.array(lbls[i+1-batch_docs:i+1])\n",
    "            batch_count = 0\n",
    "            yield q1_encoded, q2_encoded, labels\n",
    "    if strangle and batch_count != 0:\n",
    "        q1_encoded = q1_num_encoded[num_pairs-batch_count:]\n",
    "        q2_encoded = q2_num_encoded[num_pairs-batch_count:]\n",
    "        labels = np.array(lbls[num_pairs-batch_count:])\n",
    "        yield q1_encoded, q2_encoded, labels"
   ]
  },
  {
   "cell_type": "markdown",
   "metadata": {},
   "source": [
    "The below blocks read the pre-trained word2vec embedding and based on the current vocabulary form the embedding matrix that we will use in the CNN embedding layer. "
   ]
  },
  {
   "cell_type": "code",
   "execution_count": 13,
   "metadata": {},
   "outputs": [
    {
     "name": "stdout",
     "output_type": "stream",
     "text": [
      "found 37121 words in embedding matrix\n"
     ]
    }
   ],
   "source": [
    "#my own trained word2vec\n",
    "embedding_file = \"w2v_text\"\n",
    "f = open(embedding_file,\"rb\")\n",
    "embeddings_index = {}\n",
    "i = 0\n",
    "for line in f:\n",
    "    if i == 0:\n",
    "        i += 1\n",
    "        continue\n",
    "    values = line.split()\n",
    "    word = values[0].decode('utf-8')\n",
    "    coefs = np.asarray(values[1:], dtype='float32')\n",
    "    embeddings_index[word] = coefs\n",
    "    i += 1\n",
    "f.close()\n",
    "print(\"found {} words in embedding matrix\".format(i-1))"
   ]
  },
  {
   "cell_type": "code",
   "execution_count": 14,
   "metadata": {},
   "outputs": [],
   "source": [
    "embedding_matrix = np.zeros((VOCAB_SIZE, 100))\n",
    "for word, i in tokenmap.items():\n",
    "    embedding_vector = embeddings_index.get(word)\n",
    "    if embedding_vector is not None:\n",
    "        # words not found in embedding index will be all-zeros.\n",
    "        embedding_matrix[i] = embedding_vector"
   ]
  },
  {
   "cell_type": "markdown",
   "metadata": {},
   "source": [
    "Form the CNN in the below blocks. This CNN takes in two inputs, the numerically encoded sentences, question1, and question2 for each question pair. Then, it runs through an embedding layer to form the distributed representation of each sentence. Then, it runs through a convolutional layer as well as a max pooling layer. Then, the vector representation of the two sentences are calculated for a cosine distance, and use an activation function to form either true or false. "
   ]
  },
  {
   "cell_type": "code",
   "execution_count": 15,
   "metadata": {},
   "outputs": [
    {
     "name": "stderr",
     "output_type": "stream",
     "text": [
      "Using TensorFlow backend.\n"
     ]
    }
   ],
   "source": [
    "#build the CNN here\n",
    "from keras.layers import Input, Dense, Embedding, Reshape, Dot,Conv1D, MaxPooling1D, GlobalMaxPooling1D\n",
    "from keras.models import Model\n",
    "import random, string, os\n",
    "from keras.utils import plot_model\n",
    "from IPython.display import Image\n",
    "\n",
    "def show_model(model):\n",
    "    filename = \"\".join(random.choices(string.ascii_uppercase, k=10)) + \".png\"\n",
    "    plot_model(model, to_file=filename, show_shapes=True, show_layer_names=True)\n",
    "    image = Image(filename)\n",
    "    os.remove(filename)\n",
    "    return image"
   ]
  },
  {
   "cell_type": "code",
   "execution_count": 16,
   "metadata": {
    "scrolled": true
   },
   "outputs": [
    {
     "name": "stdout",
     "output_type": "stream",
     "text": [
      "WARNING:tensorflow:From C:\\Users\\shong\\AppData\\Local\\Continuum\\anaconda3\\lib\\site-packages\\tensorflow\\python\\framework\\op_def_library.py:263: colocate_with (from tensorflow.python.framework.ops) is deprecated and will be removed in a future version.\n",
      "Instructions for updating:\n",
      "Colocations handled automatically by placer.\n"
     ]
    },
    {
     "data": {
      "image/png": "[encoded data removed]",
      "text/plain": [
       "<IPython.core.display.Image object>"
      ]
     },
     "execution_count": 16,
     "metadata": {},
     "output_type": "execute_result"
    }
   ],
   "source": [
    "input_1 = Input(shape=(MAX_LENGTH,), dtype='int32', name='input_1')\n",
    "x1 = Embedding(output_dim=100, input_dim=VOCAB_SIZE, weights=[embedding_matrix], \n",
    "               input_length=MAX_LENGTH, name='embedding_1')(input_1)\n",
    "x1 = Conv1D(filters=100, kernel_size=4, activation=\"tanh\", name=\"Conv1D-1\")(x1)\n",
    "x1 = GlobalMaxPooling1D(name=\"MaxPooling1D-1\")(x1)\n",
    "input_2 = Input(shape=(MAX_LENGTH,), dtype='int32', name='input_2')\n",
    "x2 = Embedding(output_dim=100, input_dim=VOCAB_SIZE, weights=[embedding_matrix],\n",
    "               input_length=MAX_LENGTH, name='embedding_2')(input_2)\n",
    "x2 = Conv1D(filters=100, kernel_size=4, activation=\"tanh\", name=\"Conv1D-2\")(x2)\n",
    "x2 = GlobalMaxPooling1D(name=\"MaxPooling1D-2\")(x2)\n",
    "dot_prod = Dot(axes=1,normalize=True)([x1, x2])\n",
    "output = Dense(1, activation=\"sigmoid\")(dot_prod)\n",
    "model = Model(inputs=[input_1, input_2], outputs=[output])\n",
    "model.compile(loss=\"binary_crossentropy\", metrics = ['binary_accuracy'],optimizer=\"rmsprop\")\n",
    "show_model(model)"
   ]
  },
  {
   "cell_type": "code",
   "execution_count": null,
   "metadata": {},
   "outputs": [],
   "source": [
    "epochs = 10\n",
    "ntot = 0\n",
    "for epoch in range(epochs):\n",
    "    print(\"Epoch %d ======\" % epoch)\n",
    "    for q1_encoded, q2_encoded, labels in training_data_generator(q1_num_encoded, q2_num_encoded, lbls_train, batch_docs=50):\n",
    "        loss, acc = model.train_on_batch(x=[q1_encoded, q2_encoded], y=labels)\n",
    "        ntot += len(q1_encoded)\n",
    "        print(\"Total trained pairs (M): %10.2f ; \\t loss: %.4f; acc: %.4f\" % (ntot/1e6, loss,acc))"
   ]
  },
  {
   "cell_type": "code",
   "execution_count": null,
   "metadata": {},
   "outputs": [],
   "source": [
    "from datetime import datetime\n",
    "\n",
    "dt = datetime.today().strftime(\"%Y%m%d%H%M\")\n",
    "model.save(\"keras_CNN_{}\".format(dt))"
   ]
  },
  {
   "cell_type": "markdown",
   "metadata": {},
   "source": [
    "Load the trained CNN. "
   ]
  },
  {
   "cell_type": "code",
   "execution_count": 17,
   "metadata": {},
   "outputs": [
    {
     "name": "stdout",
     "output_type": "stream",
     "text": [
      "WARNING:tensorflow:From C:\\Users\\shong\\AppData\\Local\\Continuum\\anaconda3\\lib\\site-packages\\tensorflow\\python\\ops\\math_ops.py:3066: to_int32 (from tensorflow.python.ops.math_ops) is deprecated and will be removed in a future version.\n",
      "Instructions for updating:\n",
      "Use tf.cast instead.\n",
      "WARNING:tensorflow:From C:\\Users\\shong\\AppData\\Local\\Continuum\\anaconda3\\lib\\site-packages\\tensorflow\\python\\ops\\math_grad.py:102: div (from tensorflow.python.ops.math_ops) is deprecated and will be removed in a future version.\n",
      "Instructions for updating:\n",
      "Deprecated in favor of operator or tf.math.divide.\n"
     ]
    }
   ],
   "source": [
    "from keras.models import load_model\n",
    "loaded_model = load_model(\"keras_CNN_201905281745\")"
   ]
  },
  {
   "cell_type": "markdown",
   "metadata": {},
   "source": [
    "The below blocks are when I was developing, to verify if the CNN does work, I use 30% of train.csv to test out if the result is good. The accuracy is around 0.76 to 0.83. The output is too many so I cleared it on jupyter notebook. But, I have manually pasted it to a file which contained the evaluation results. "
   ]
  },
  {
   "cell_type": "code",
   "execution_count": null,
   "metadata": {
    "scrolled": true
   },
   "outputs": [],
   "source": [
    "# this is used when I was doing development, as mentioned above. \n",
    "df_train, df_dev = form_training_data(\"train.csv\",test_size=0.3)\n",
    "q1_sents_dev, q2_sents_dev, sents_dev = prepare_data(df_dev)\n",
    "q1_num_encoded_dev, q2_num_encoded_dev = encode_data(q1_sents_dev, q2_sents_dev, max_length=MAX_LENGTH)\n",
    "lbls_dev = df_dev[\"is_duplicate\"]"
   ]
  },
  {
   "cell_type": "code",
   "execution_count": null,
   "metadata": {},
   "outputs": [],
   "source": [
    "#this is only for dev purpose, when confirming the model trained is good enough. \n",
    "ntot = 0\n",
    "for q1_encoded, q2_encoded, labels in training_data_generator(q1_num_encoded_dev, q2_num_encoded_dev, lbls_dev, batch_docs=50):\n",
    "    #loss = model.test_on_batch(x=[q1_encoded, q2_encoded], y=labels)\n",
    "    loss, acc = loaded_model.evaluate(x=[q1_encoded, q2_encoded], y=labels)\n",
    "    ntot += len(q1_encoded)\n",
    "    print(\"Total trained pairs (M): %10.2f ; \\t loss: %.4f; acc: %.4f;\" % (ntot/1e6, loss, acc))"
   ]
  },
  {
   "cell_type": "markdown",
   "metadata": {},
   "source": [
    "The below blocks are to use the trained CNN to generate similarity scores that Tengbo will use as features in his training. Pop out the last layer and you can directly output similarity score with the CNN. We collected both the scores of train.csv and test.csv. "
   ]
  },
  {
   "cell_type": "code",
   "execution_count": null,
   "metadata": {},
   "outputs": [],
   "source": [
    "#df_test, a = form_training_data(\"train.csv\")\n",
    "df_test, a = form_training_data(\"test.csv\")\n",
    "q1_sents_test, q2_sents_test, sents_test = prepare_data(df_test)\n",
    "q1_num_encoded_test, q2_num_encoded_test = encode_data(q1_sents_test, q2_sents_test, max_length=MAX_LENGTH)"
   ]
  },
  {
   "cell_type": "code",
   "execution_count": 19,
   "metadata": {},
   "outputs": [
    {
     "data": {
      "image/png": "[encoded data removed]",
      "text/plain": [
       "<IPython.core.display.Image object>"
      ]
     },
     "execution_count": 19,
     "metadata": {},
     "output_type": "execute_result"
    }
   ],
   "source": [
    "loaded_model.layers.pop()\n",
    "loaded_model.build(None)\n",
    "show_model(loaded_model)"
   ]
  },
  {
   "cell_type": "code",
   "execution_count": null,
   "metadata": {},
   "outputs": [],
   "source": [
    "import csv"
   ]
  },
  {
   "cell_type": "code",
   "execution_count": null,
   "metadata": {},
   "outputs": [],
   "source": [
    "length = len(q1_num_encoded_test)\n",
    "print(length)\n",
    "test_ids = df_test[\"test_id\"]\n",
    "#test_ids = df_test[\"id\"] # if using train.csv\n",
    "ntot = 0\n",
    "with open(\"sh_similarity.csv\", \"w\") as csv_file:\n",
    "    csv_writer = csv.writer(csv_file,delimiter=\",\")\n",
    "    csv_writer.writerow([\"test_id\",\"similarity\"])\n",
    "    for q1_encoded, q2_encoded, test_id in training_data_generator(q1_num_encoded_test, q2_num_encoded_test, test_ids, batch_docs=1, strangle=True):\n",
    "        similarity = loaded_model.predict(x=[q1_encoded, q2_encoded])\n",
    "        csv_writer.writerow([test_id,similarity])\n",
    "        ntot += 1\n",
    "        if ntot % 100000 == 0:\n",
    "            print(ntot)"
   ]
  },
  {
   "cell_type": "code",
   "execution_count": null,
   "metadata": {},
   "outputs": [],
   "source": [
    "df_sim_test = pd.read_csv(\"sh_similarity.csv\")\n",
    "df_sim_test.head()"
   ]
  },
  {
   "cell_type": "code",
   "execution_count": null,
   "metadata": {},
   "outputs": [],
   "source": []
  }
 ],
 "metadata": {
  "kernelspec": {
   "display_name": "Python 3",
   "language": "python",
   "name": "python3"
  },
  "language_info": {
   "codemirror_mode": {
    "name": "ipython",
    "version": 3
   },
   "file_extension": ".py",
   "mimetype": "text/x-python",
   "name": "python",
   "nbconvert_exporter": "python",
   "pygments_lexer": "ipython3",
   "version": "3.6.8"
  }
 },
 "nbformat": 4,
 "nbformat_minor": 2
}
